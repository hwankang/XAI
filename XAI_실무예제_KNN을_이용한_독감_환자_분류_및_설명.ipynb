{
  "nbformat": 4,
  "nbformat_minor": 0,
  "metadata": {
    "colab": {
      "name": "XAI 실무예제: KNN을 이용한 독감 환자 분류 및 설명.ipynb",
      "provenance": [],
      "collapsed_sections": [],
      "toc_visible": true,
      "include_colab_link": true
    },
    "kernelspec": {
      "name": "python3",
      "display_name": "Python 3"
    }
  },
  "cells": [
    {
      "cell_type": "markdown",
      "metadata": {
        "id": "view-in-github",
        "colab_type": "text"
      },
      "source": [
        "<a href=\"https://colab.research.google.com/github/hwankang/XAI/blob/main/XAI_%EC%8B%A4%EB%AC%B4%EC%98%88%EC%A0%9C_KNN%EC%9D%84_%EC%9D%B4%EC%9A%A9%ED%95%9C_%EB%8F%85%EA%B0%90_%ED%99%98%EC%9E%90_%EB%B6%84%EB%A5%98_%EB%B0%8F_%EC%84%A4%EB%AA%85.ipynb\" target=\"_parent\"><img src=\"https://colab.research.google.com/assets/colab-badge.svg\" alt=\"Open In Colab\"/></a>"
      ]
    },
    {
      "cell_type": "markdown",
      "metadata": {
        "id": "oyhdwtM-yhpy"
      },
      "source": [
        "# XAI 실무예제: KNN을 이용한 독감 환자 분류 및 설명\n",
        "\n",
        "* 지도식 학습 기법과 설명형 기법을 결합\n",
        "* k-nearest neighbors with location history\n",
        "* Copyright 2020 Denis Rothman MIT License. See LICENSE.\n",
        "* Lecture: Junsang Dong (naebon1@gmail.com)\n",
        "* https://www.packtpub.com/product/hands-on-explainable-ai-xai-with-python/9781800208131\n",
        "*2021 01 07 Hwan Il Kang update "
      ]
    },
    {
      "cell_type": "markdown",
      "metadata": {
        "id": "e3_U97xc1apK"
      },
      "source": [
        "## 라이브러리 및 데이터 가져오기"
      ]
    },
    {
      "cell_type": "code",
      "metadata": {
        "id": "wrqIXPyc1Utv"
      },
      "source": [
        "#pandas\n",
        "#matplotlib\n",
        "#sklearn\n",
        "#KNeighborsClassifier\n",
        "\n",
        "import pandas as pd\n",
        "from matplotlib import pyplot as plt\n",
        "from sklearn.neighbors import KNeighborsClassifier\n",
        "import os"
      ],
      "execution_count": null,
      "outputs": []
    },
    {
      "cell_type": "code",
      "metadata": {
        "id": "u_jh_wFk9Vwq"
      },
      "source": [
        "#@title Importing data <br> repository is set to \"github\"(default) to read the data from GitHub <br> set repository to \"google\" to read the data from Google Drive {display-mode: \"form\"}\n",
        "#colab\n",
        "#drive\n",
        "\n",
        "import os\n",
        "from google.### import ###\n",
        "\n",
        "#Set repository to \"github\" to read the data from GitHub \n",
        "#Set repository to \"google\" to read the data from Google\n",
        "repository=\"github\"\n",
        "\n",
        "if repository==\"github\":\n",
        "  !curl -L https://raw.githubusercontent.com/PacktPublishing/Hands-On-Explainable-AI-XAI-with-Python/master/Chapter01/DLH.csv --output \"DLH.csv\"\n",
        "  !curl -L https://raw.githubusercontent.com/PacktPublishing/Hands-On-Explainable-AI-XAI-with-Python/master/Chapter01/glh.jpg --output \"glh.jpg\"\n",
        "\n",
        "  #Setting the path for each file\n",
        "  df2=\"/content/DLH.csv\"\n",
        "  print(df2)\n",
        "\n",
        "if repository==\"google\":\n",
        "  #Mounting the drive. If it is not mounted, a prompt will provide instructions.\n",
        "  drive.mount('/content/drive')\n",
        "  #Setting the path for each file\n",
        "  df2='/content/drive/My Drive/XAI/Chapter01/DLH.csv'\n",
        "  print(df2)"
      ],
      "execution_count": null,
      "outputs": []
    },
    {
      "cell_type": "code",
      "metadata": {
        "id": "uZJUEbIcypf1",
        "colab": {
          "base_uri": "https://localhost:8080/"
        },
        "outputId": "e7c90e52-d683-4a54-b200-e111da19f85e"
      },
      "source": [
        "from google.colab import drive\r\n",
        "repository = \"github\"\r\n",
        "if repository == \"github\":\r\n",
        "    !curl -L https://raw.githubusercontent.com/PacktPublishing/Hands-On-Explainable-AI-XAI-with-Python/master/Chapter01/DLH.csv --output \"DLH.csv\"\r\n",
        "    !curl -L https://raw.githubusercontent.com/PacktPublishing/Hands-On-Explainable-AI-XAI-with-Python/master/Chapter01/glh.jpg --output \"glh.jpg\""
      ],
      "execution_count": null,
      "outputs": [
        {
          "output_type": "stream",
          "text": [
            "  % Total    % Received % Xferd  Average Speed   Time    Time     Time  Current\n",
            "                                 Dload  Upload   Total   Spent    Left  Speed\n",
            "100  4985  100  4985    0     0  20182      0 --:--:-- --:--:-- --:--:-- 20100\n",
            "  % Total    % Received % Xferd  Average Speed   Time    Time     Time  Current\n",
            "                                 Dload  Upload   Total   Spent    Left  Speed\n",
            "100 10261  100 10261    0     0  49331      0 --:--:-- --:--:-- --:--:-- 49331\n"
          ],
          "name": "stdout"
        }
      ]
    },
    {
      "cell_type": "code",
      "metadata": {
        "id": "jCkbiZ5U0nYZ",
        "colab": {
          "base_uri": "https://localhost:8080/"
        },
        "outputId": "cbfcd27f-bcf8-4c90-cff1-fb461993cbb0"
      },
      "source": [
        "df2 = \"/content/DLH.csv\"\r\n",
        "print(df2)"
      ],
      "execution_count": null,
      "outputs": [
        {
          "output_type": "stream",
          "text": [
            "/content/DLH.csv\n"
          ],
          "name": "stdout"
        }
      ]
    },
    {
      "cell_type": "markdown",
      "metadata": {
        "id": "ZDbMCyj00pmx"
      },
      "source": [
        "## 데이터 확인"
      ]
    },
    {
      "cell_type": "code",
      "metadata": {
        "id": "6Ihizbhl1DDm",
        "colab": {
          "base_uri": "https://localhost:8080/"
        },
        "outputId": "6ea1e9ca-8170-437d-ab4b-0f0339633be4"
      },
      "source": [
        "#read_csv()\n",
        "#df2\n",
        "\n",
        "df = pd.read_csv(df2)\n",
        "print (df)"
      ],
      "execution_count": null,
      "outputs": [
        {
          "output_type": "stream",
          "text": [
            "     colored_sputum  cough  fever  headache  days  france  chicago    class\n",
            "0               1.0    3.5    9.4       3.0     3       0        1      flu\n",
            "1               1.0    3.4    8.4       4.0     2       0        1      flu\n",
            "2               1.0    3.3    7.3       3.0     4       0        1      flu\n",
            "3               1.0    3.4    9.5       4.0     2       0        1      flu\n",
            "4               1.0    2.0    8.0       3.5     1       0        1      flu\n",
            "..              ...    ...    ...       ...   ...     ...      ...      ...\n",
            "179             2.0    3.0    8.0       9.0     5       0        1  bad_flu\n",
            "180             1.0    3.0    8.0       9.0     5       0        1  bad_flu\n",
            "181             3.0    3.0    8.0       9.0     5       0        1  bad_flu\n",
            "182             1.0    4.0    8.0       9.0     5       0        1  bad_flu\n",
            "183             1.0    5.0    8.0       9.0     5       0        1  bad_flu\n",
            "\n",
            "[184 rows x 8 columns]\n"
          ],
          "name": "stdout"
        }
      ]
    },
    {
      "cell_type": "markdown",
      "metadata": {
        "id": "irdvqjIX2aUE"
      },
      "source": [
        "## 모델 훈련"
      ]
    },
    {
      "cell_type": "code",
      "metadata": {
        "id": "DmbziI3L2kEg",
        "colab": {
          "base_uri": "https://localhost:8080/",
          "height": 363
        },
        "outputId": "e7c5166b-688d-40ab-df7d-42795cd08780"
      },
      "source": [
        "# KNN classification labels\n",
        "X = df.loc[:,'colored_sputum':'chicago']\n",
        "Y = df.loc[:,'class']\n",
        "df =pd.read_csv(df2)\n",
        "figure, (sub1, sub2, sub3, sub4, sub5 )=plt.subplots(5, sharex=True, sharey=True)\n",
        "plt.suptitle('k-nearest neighbors')\n",
        "plt.xlabel('Feature')\n",
        "plt.ylabel('Class')\n",
        "\n",
        "# Trains the model\n",
        "#KNeighborsClassifier()\n",
        "#fit()\n",
        "\n",
        "knn = KNeighborsClassifier()\n",
        "knn.fit(X,Y)"
      ],
      "execution_count": null,
      "outputs": [
        {
          "output_type": "execute_result",
          "data": {
            "text/plain": [
              "KNeighborsClassifier(algorithm='auto', leaf_size=30, metric='minkowski',\n",
              "                     metric_params=None, n_jobs=None, n_neighbors=5, p=2,\n",
              "                     weights='uniform')"
            ]
          },
          "metadata": {
            "tags": []
          },
          "execution_count": 16
        },
        {
          "output_type": "display_data",
          "data": {
            "image/png": "[encoded data removed]",
            "text/plain": [
              "<Figure size 432x288 with 5 Axes>"
            ]
          },
          "metadata": {
            "tags": [],
            "needs_background": "light"
          }
        }
      ]
    },
    {
      "cell_type": "code",
      "metadata": {
        "id": "79_cXxfm3u-_",
        "colab": {
          "base_uri": "https://localhost:8080/"
        },
        "outputId": "48adabf3-4a50-4440-8071-7da88f970512"
      },
      "source": [
        "X = df.loc[:, 'days']\r\n",
        "Y = df.loc[:, 'class']\r\n",
        "sub5.scatter(X,Y, color='brown', label='days')\r\n",
        "sub5.legend(loc=4, prop={'size':5})"
      ],
      "execution_count": null,
      "outputs": [
        {
          "output_type": "execute_result",
          "data": {
            "text/plain": [
              "<matplotlib.legend.Legend at 0x7fe9fa6e52b0>"
            ]
          },
          "metadata": {
            "tags": []
          },
          "execution_count": 17
        }
      ]
    },
    {
      "cell_type": "markdown",
      "metadata": {
        "id": "9gEZkOyJvP91"
      },
      "source": [
        "## 독감의 여러 증상을 1 ~ 9 단계로 분류"
      ]
    },
    {
      "cell_type": "code",
      "metadata": {
        "id": "MXlzQVPhwJJn"
      },
      "source": [
        "#@title Alert evaluation form: do not change the values of france and chicago\n",
        "colored_sputum =  1#@param {type:\"integer\"}\n",
        "cough=3#@param {type:\"integer\"}\n",
        "fever=7#@param {type:\"integer\"}\n",
        "headache=7#@param {type:\"integer\"}\n",
        "days=5#@param {type:\"integer\"}\n",
        "# Insert the function here that analyzes the conjunction of\n",
        "# the Location History of the patient and location of\n",
        "# diseases per country/location \n",
        "france=0#@param {type:\"integer\"}\n",
        "chicago=1#@param {type:\"integer\"}"
      ],
      "execution_count": null,
      "outputs": []
    },
    {
      "cell_type": "markdown",
      "metadata": {
        "id": "TUILabqY1aFx"
      },
      "source": [
        "## 증상에 따른 질병 예측"
      ]
    },
    {
      "cell_type": "code",
      "metadata": {
        "id": "61SeTO25vL-z",
        "colab": {
          "base_uri": "https://localhost:8080/"
        },
        "outputId": "6d97fa78-e928-4aeb-de73-fef6c5fd5bb2"
      },
      "source": [
        "# colored_sputum,cough,fever,headache\n",
        "cs=colored_sputum;c=cough;f=fever;h=headache;d=days;fr=france;ch=chicago;\n",
        "X_DL = [[cs,c,f,h,d,fr,ch]] \n",
        "#X_DL = [[1,3,7,3,5,0,1]] \n",
        "\n",
        "#predict()\n",
        "prediction = knn.predict(X_DL)\n",
        "predictv=str(prediction).strip('[]')\n",
        "print (\"The prediction is:\",predictv)\n"
      ],
      "execution_count": null,
      "outputs": [
        {
          "output_type": "stream",
          "text": [
            "The prediction is: 'bad_flu'\n"
          ],
          "name": "stdout"
        }
      ]
    },
    {
      "cell_type": "markdown",
      "metadata": {
        "id": "55KYpHpVn4Ry"
      },
      "source": [
        "## \"bad_flu\"인 경우 경고 메시지 발송"
      ]
    },
    {
      "cell_type": "code",
      "metadata": {
        "id": "EthIzmvpn4in",
        "colab": {
          "base_uri": "https://localhost:8080/"
        },
        "outputId": "0e292d37-e6e0-4b9d-bdca-edc8e3fca1f7"
      },
      "source": [
        "alert=predictv # instead of the constant \"bad_flu\", a variable can used after going through a list of serious diseases\n",
        "print(alert)\n",
        "if alert=='bad_flu':\n",
        "  print(\"Further urgent information might be required. Activate the XAI interface.\")"
      ],
      "execution_count": null,
      "outputs": [
        {
          "output_type": "stream",
          "text": [
            "'bad_flu'\n"
          ],
          "name": "stdout"
        }
      ]
    },
    {
      "cell_type": "markdown",
      "metadata": {
        "id": "lx74_Yc5vYk1"
      },
      "source": [
        "## XAI STEP 1: 모델 결과값 및 설명문 출력"
      ]
    },
    {
      "cell_type": "code",
      "metadata": {
        "id": "PjwhSp_JvFnD",
        "colab": {
          "base_uri": "https://localhost:8080/",
          "height": 308
        },
        "outputId": "f494b5c5-0a67-4c65-a2c2-d45f4381b2b8"
      },
      "source": [
        "df = pd.read_csv(df2) \n",
        "# Plotting the relation of each feature with each class\n",
        "figure,(sub1,sub2,sub3,sub4,sub5)=plt.subplots(5,sharex=True,sharey=True)\n",
        "plt.suptitle('k-nearest neighbors')\n",
        "plt.xlabel('Feature')\n",
        "plt.ylabel('Class') \n",
        "\n",
        "#scatter()\n",
        "#legend()\n",
        "\n",
        "X = df.loc[:,'colored_sputum']\n",
        "Y = df.loc[:,'class']\n",
        "sub1.scatter(X, Y,color='blue',label='colored_sputum')\n",
        "sub1.legend(loc=4, prop={'size': 5})\n",
        "sub1.set_title('Medical Diagnosis Software')\n",
        "\n",
        "X = df.loc[:,'cough']\n",
        "Y = df.loc[:,'class']\n",
        "sub2.scatter(X, Y,color='green',label='cough')\n",
        "sub2.legend(loc=4, prop={'size': 5})\n",
        "\n",
        "X = df.loc[:,'fever']\n",
        "Y = df.loc[:,'class']\n",
        "sub3.scatter(X, Y,color='red',label='fever')\n",
        "sub3.legend(loc=4, prop={'size': 5})\n",
        "\n",
        "X = df.loc[:,'headache']\n",
        "Y = df.loc[:,'class']\n",
        "sub4.scatter(X, Y,color='black',label='headache')\n",
        "sub4.legend(loc=4, prop={'size': 5})\n",
        "\n",
        "X = df.loc[:,'days']\n",
        "Y = df.loc[:,'class']\n",
        "sub5.scatter(X, Y,color='brown',label='days')\n",
        "sub5.legend(loc=4, prop={'size': 5})\n",
        "\n",
        "#show()\n",
        "\n",
        "figure.subplots_adjust(hspace=0)\n",
        "plt.show()"
      ],
      "execution_count": null,
      "outputs": [
        {
          "output_type": "display_data",
          "data": {
            "image/png": "[encoded data removed]",
            "text/plain": [
              "<Figure size 432x288 with 5 Axes>"
            ]
          },
          "metadata": {
            "tags": [],
            "needs_background": "light"
          }
        }
      ]
    },
    {
      "cell_type": "markdown",
      "metadata": {
        "id": "42BLIGHlz13o"
      },
      "source": [
        "Explanations for alert level"
      ]
    },
    {
      "cell_type": "code",
      "metadata": {
        "id": "3ypiQAgdz4a4",
        "colab": {
          "base_uri": "https://localhost:8080/"
        },
        "outputId": "0040b8db-d414-49e8-9464-fc5b0d4425c7"
      },
      "source": [
        "#This is an example program. DO NOT USE this for a real-life diagnosis. \n",
        "#cs=colored_sputum;c=cough;f=fever;\n",
        "#h=headache;d=days;fr=france;ch=chicago;\n",
        "if(f>5):\n",
        "  print(\"your patient has a high fever\")\n",
        "if(d>4):\n",
        "  print(\"your patient has had a high fever for more than 4 days even with medication\")\n",
        "if(fr<1):\n",
        "  print(\"it is probable that your patient was not in contact with a virus in France\")\n",
        "if(chicago>0):\n",
        "  print(\"it is probable that your patient was in contact with a virus in Chicago\")\n"
      ],
      "execution_count": null,
      "outputs": [
        {
          "output_type": "stream",
          "text": [
            "your patient has a high fever\n",
            "your patient has had a high fever for more than 4 days even with medication\n",
            "it is probable that your patient was not in contact with a virus in France\n",
            "it is probable that your patient was in contact with a virus in Chicago\n"
          ],
          "name": "stdout"
        }
      ]
    },
    {
      "cell_type": "markdown",
      "metadata": {
        "id": "FxDUq3X_6WwY"
      },
      "source": [
        "## 지역별 감염 횟수 정보 제공"
      ]
    },
    {
      "cell_type": "code",
      "metadata": {
        "id": "S68HEi296cM_",
        "colab": {
          "base_uri": "https://localhost:8080/"
        },
        "outputId": "e520d2ae-bbad-44ed-f250-4e1d2d902cbe"
      },
      "source": [
        "print(\"Your patient is part of the XAI program that you have signed up for.\")\n",
        "print(\"As such, we have your patient's authorization to access his Google Location History which we update in our database once a day between 10 pm and 6 am.\")\n",
        "print(\"The following map shows that your patient was in Chicago, Paris, and Lyon within the past 3 weeks\")\n",
        "print(\"For this diagnosis, we only activated a search for the past 3 weeks\")\n",
        "print(\"Please ask your patient if he was in Chicago in the past 3 weeks. If the answer is yes, continue the AI explanation.\")"
      ],
      "execution_count": null,
      "outputs": [
        {
          "output_type": "stream",
          "text": [
            "Your patient is part of the XAI program that you have signed up for.\n",
            "As such, we have your patient's authorization to access his Google Location History which we update in our database once a day between 10 pm and 6 am.\n",
            "The following map shows that your patient was in Chicago, Paris, and Lyon within the past 3 weeks\n",
            "For this diagnosis, we only activated a search for the past 3 weeks\n",
            "Please ask your patient if he was in Chicago in the past 3 weeks. If the answer is yes, continue the AI explanation.\n"
          ],
          "name": "stdout"
        }
      ]
    },
    {
      "cell_type": "markdown",
      "metadata": {
        "id": "6wa-1uRuEQdZ"
      },
      "source": [
        "![](/content/glh.jpg)\n"
      ]
    },
    {
      "cell_type": "code",
      "metadata": {
        "id": "Fs0psoZlbRCS",
        "colab": {
          "base_uri": "https://localhost:8080/",
          "height": 200
        },
        "outputId": "cfd45ea3-5c63-4709-e1a0-809bf321b894"
      },
      "source": [
        "#imread()\n",
        "#imshow()\n",
        "\n",
        "import matplotlib.image as mpimg\n",
        "img=mpimg.imread('/content/glh.jpg')\n",
        "imgplot = plt.imshow(img)\n",
        "plt.show()"
      ],
      "execution_count": null,
      "outputs": [
        {
          "output_type": "display_data",
          "data": {
            "image/png": "[encoded data removed]",
            "text/plain": [
              "<Figure size 432x288 with 1 Axes>"
            ]
          },
          "metadata": {
            "tags": [],
            "needs_background": "light"
          }
        }
      ]
    },
    {
      "cell_type": "markdown",
      "metadata": {
        "id": "GlS-Lk_ZFjsr"
      },
      "source": [
        "## 시카고 CULEX PIPIENS/RESTUANS의 검진 데이터 사용"
      ]
    },
    {
      "cell_type": "markdown",
      "metadata": {
        "id": "P9sD7ODzFvV3"
      },
      "source": [
        "![image.png](data:image/png;base64,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)"
      ]
    },
    {
      "cell_type": "code",
      "metadata": {
        "id": "nDJj4nAlF7Er",
        "colab": {
          "base_uri": "https://localhost:8080/"
        },
        "outputId": "7296abae-4f69-4a07-ff67-7faf93f24449"
      },
      "source": [
        "print(\"Your patient was in Chicago in the period during which there were positive detections of the CULEX PIPIENS/RESTUANS mosquito.\")\n",
        "print(\"The mosquitos were trapped with a Gravid trap.\")\n",
        "print(\"The CULEX PIPIENS/RESTUANS mosquito is a vector for the West Nile virus.\")\n",
        "print(\"We matched your patient's location history with the presence of the CULEX PIPIENS/RESTUANS in Chicago.\")\n",
        "print(\"We then matched the CULEX PIPIENS/RESTUANS with West Nile virus.\")\n",
        "print(\"Continue to see information the West Nile virus.\")"
      ],
      "execution_count": null,
      "outputs": [
        {
          "output_type": "stream",
          "text": [
            "Your patient was in Chicago in the period during which there were positive detections of the CULEX PIPIENS/RESTUANS mosquito.\n",
            "The mosquitos were trapped with a Gravid trap.\n",
            "The CULEX PIPIENS/RESTUANS mosquito is a vector for the West Nile virus.\n",
            "We matched your patient's location history with the presence of the CULEX PIPIENS/RESTUANS in Chicago.\n",
            "We then matched the CULEX PIPIENS/RESTUANS with West Nile virus.\n",
            "Continue to see information the West Nile virus.\n"
          ],
          "name": "stdout"
        }
      ]
    },
    {
      "cell_type": "markdown",
      "metadata": {
        "id": "I3dhezjqItzp"
      },
      "source": [
        "## 응용 예제를 위해 웨스트 나일 바이러스 정보 찾기 \n",
        "* If need information on the West Nile virus, click on the following link:\n",
        "[West Nile virus](https://www.healthline.com/health/west-nile-virus#treatment)\n",
        "\n",
        "if you are interested in similar situations:\n",
        "[cases in Greece](\n",
        "https://www.forbes.com/sites/alexledsom/2019/06/17/mosquitoes-threaten-greek-tourist-industry-with-west-nile-virus/#1123f99648a8)\n"
      ]
    }
  ]
}